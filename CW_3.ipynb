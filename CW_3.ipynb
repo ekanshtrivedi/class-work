{
  "nbformat": 4,
  "nbformat_minor": 0,
  "metadata": {
    "colab": {
      "name": "CW-3.ipynb",
      "provenance": [],
      "authorship_tag": "ABX9TyPMvJ57olJEi+Wv1ekh/AuH",
      "include_colab_link": true
    },
    "kernelspec": {
      "name": "python3",
      "display_name": "Python 3"
    }
  },
  "cells": [
    {
      "cell_type": "markdown",
      "metadata": {
        "id": "view-in-github",
        "colab_type": "text"
      },
      "source": [
        "<a href=\"https://colab.research.google.com/github/ekanshtrivedi/class-work/blob/master/CW_3.ipynb\" target=\"_parent\"><img src=\"https://colab.research.google.com/assets/colab-badge.svg\" alt=\"Open In Colab\"/></a>"
      ]
    },
    {
      "cell_type": "markdown",
      "metadata": {
        "id": "fDwOtVuyFDST",
        "colab_type": "text"
      },
      "source": [
        "RECURSION - FUNCTION CALLING ITSELF DURING EXECUTION."
      ]
    },
    {
      "cell_type": "code",
      "metadata": {
        "id": "9ULcWKAZFNpw",
        "colab_type": "code",
        "colab": {}
      },
      "source": [
        "1+2+3+4\n",
        "1+2=3 #sum(1,2)\n",
        "3+3=6 #sum(sum(1,2),3)\n",
        "6+4=10 #sum(sum(sum(1,2),3),4)"
      ],
      "execution_count": null,
      "outputs": []
    },
    {
      "cell_type": "markdown",
      "metadata": {
        "id": "Rk8vx2rMFVJr",
        "colab_type": "text"
      },
      "source": [
        "MEMOISATION~ MEMORANDUM (TO BE REMEMBERED)"
      ]
    },
    {
      "cell_type": "markdown",
      "metadata": {
        "id": "rZWF1EpAFhSt",
        "colab_type": "text"
      },
      "source": [
        "storing intermediate values, through various ways."
      ]
    },
    {
      "cell_type": "code",
      "metadata": {
        "id": "HKPGwGVEGGTy",
        "colab_type": "code",
        "colab": {}
      },
      "source": [
        "#calculating 7 factorial\n",
        "def factorial(n):\n",
        "  factor==1\n",
        "  if (n==0):\n",
        "    return 0\n",
        "  else:\n",
        "    return n*factorial(n-1)\n",
        "\n",
        "\n",
        "      "
      ],
      "execution_count": 8,
      "outputs": []
    },
    {
      "cell_type": "code",
      "metadata": {
        "id": "fdoz_O31H-_A",
        "colab_type": "code",
        "colab": {}
      },
      "source": [
        "def f_s(n):\n",
        "  factor=1\n",
        "  for i in range(1,n+1):\n",
        "    factor=factor*i\n",
        "  return factor      \n"
      ],
      "execution_count": 9,
      "outputs": []
    },
    {
      "cell_type": "code",
      "metadata": {
        "id": "XcuR-bSpIBwZ",
        "colab_type": "code",
        "colab": {
          "base_uri": "https://localhost:8080/",
          "height": 35
        },
        "outputId": "5a4f343b-90a7-41a0-c297-76a7e3cc92d3"
      },
      "source": [
        "f_s(5)"
      ],
      "execution_count": 10,
      "outputs": [
        {
          "output_type": "execute_result",
          "data": {
            "text/plain": [
              "120"
            ]
          },
          "metadata": {
            "tags": []
          },
          "execution_count": 10
        }
      ]
    },
    {
      "cell_type": "code",
      "metadata": {
        "id": "3Z1jsTywJWUL",
        "colab_type": "code",
        "colab": {}
      },
      "source": [
        "#fibonacci series\n",
        "0112358\n",
        "#property\n",
        "#best case -sum(0,1)\n",
        "#nth number is sum of two numbers num(n)=sum(num(n-1),num(n-2))\n",
        "def fibo(n):\n",
        "  #function to calculate nth fibnacci number\n",
        "  fibo[0],fibo[1]=0,1\n",
        "  if n==0:\n",
        "    print( fibo[0])\n",
        "  elif n==1:\n",
        "    print(1)  \n",
        "  else:\n",
        "    for num in range(2,n):\n",
        "      fibo="
      ],
      "execution_count": null,
      "outputs": []
    },
    {
      "cell_type": "code",
      "metadata": {
        "id": "8eGWLq7jR5nK",
        "colab_type": "code",
        "colab": {}
      },
      "source": [
        "def fibo_1(n):\n",
        "  #takes n number\n",
        "  #displays n+1th term\n",
        "  if n==0 or n==1:\n",
        "    return n\n",
        "  else :\n",
        "    return fibo_1(n-1)+fibo_1(n-2)  \n",
        "     \n",
        "\n",
        "\n",
        " \n"
      ],
      "execution_count": 11,
      "outputs": []
    },
    {
      "cell_type": "code",
      "metadata": {
        "id": "jWj05yR9VY2l",
        "colab_type": "code",
        "colab": {
          "base_uri": "https://localhost:8080/",
          "height": 139
        },
        "outputId": "17ed5e67-094e-40c6-af9e-309142e951c7"
      },
      "source": [
        "def fibonacci(n):\n",
        "  a = 0\n",
        "  b = 1\n",
        "  if(n == 0):\n",
        "    return a\n",
        "  elif(n == 1):\n",
        "    print(str(a)+\"\\n\"+str(b))\n",
        "  else:\n",
        "    print(str(a)+\"\\n\"+str(b))\n",
        "    for num in range(2,n):\n",
        "      fibb = a+b\n",
        "      print(str(fibb))\n",
        "      a = b\n",
        "      b = fibb\n",
        "fibonacci(7)"
      ],
      "execution_count": 13,
      "outputs": [
        {
          "output_type": "stream",
          "text": [
            "0\n",
            "1\n",
            "1\n",
            "2\n",
            "3\n",
            "5\n",
            "8\n"
          ],
          "name": "stdout"
        }
      ]
    },
    {
      "cell_type": "code",
      "metadata": {
        "id": "iWub1dtGSYYL",
        "colab_type": "code",
        "colab": {
          "base_uri": "https://localhost:8080/",
          "height": 35
        },
        "outputId": "35ca29ae-c62b-4c09-c569-ffca7a62ee62"
      },
      "source": [
        "fibo_1(5)"
      ],
      "execution_count": 12,
      "outputs": [
        {
          "output_type": "execute_result",
          "data": {
            "text/plain": [
              "5"
            ]
          },
          "metadata": {
            "tags": []
          },
          "execution_count": 12
        }
      ]
    },
    {
      "cell_type": "markdown",
      "metadata": {
        "id": "ElS-TdvKXcZn",
        "colab_type": "text"
      },
      "source": [
        "Tractable- PTIME(polynomial time solvable)"
      ]
    },
    {
      "cell_type": "code",
      "metadata": {
        "id": "lP63J-cYScdc",
        "colab_type": "code",
        "colab": {}
      },
      "source": [
        "#binary search\n",
        "list = [5,3,7,9,45,67,74,89,98,111,187,207,39,2]\n",
        "list1= list.copy().sort()"
      ],
      "execution_count": 14,
      "outputs": []
    },
    {
      "cell_type": "code",
      "metadata": {
        "id": "W1D_rHHBXVkG",
        "colab_type": "code",
        "colab": {}
      },
      "source": [
        "list1"
      ],
      "execution_count": 15,
      "outputs": []
    },
    {
      "cell_type": "code",
      "metadata": {
        "id": "zkWavqnEXWwM",
        "colab_type": "code",
        "colab": {}
      },
      "source": [
        ""
      ],
      "execution_count": null,
      "outputs": []
    }
  ]
}