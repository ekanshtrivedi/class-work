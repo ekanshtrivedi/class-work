{
  "nbformat": 4,
  "nbformat_minor": 0,
  "metadata": {
    "colab": {
      "name": "NNJ066.ipynb",
      "provenance": [],
      "authorship_tag": "ABX9TyP3Oq5bPXYOIj/iZEVem44G",
      "include_colab_link": true
    },
    "kernelspec": {
      "name": "python3",
      "display_name": "Python 3"
    }
  },
  "cells": [
    {
      "cell_type": "markdown",
      "metadata": {
        "id": "view-in-github",
        "colab_type": "text"
      },
      "source": [
        "<a href=\"https://colab.research.google.com/github/ekanshtrivedi/class-work/blob/master/NNJ066.ipynb\" target=\"_parent\"><img src=\"https://colab.research.google.com/assets/colab-badge.svg\" alt=\"Open In Colab\"/></a>"
      ]
    },
    {
      "cell_type": "code",
      "metadata": {
        "id": "j-SiU2UNIYWi",
        "colab_type": "code",
        "colab": {}
      },
      "source": [
        "import numpy as np"
      ],
      "execution_count": 1,
      "outputs": []
    },
    {
      "cell_type": "code",
      "metadata": {
        "id": "lvogE2nCIdWi",
        "colab_type": "code",
        "colab": {}
      },
      "source": [
        "np.random.seed(1)\n",
        "X_axes=np.random.randn(2,3)\n",
        "Y_axes=(np.random.randn(1,3,)>0)"
      ],
      "execution_count": 2,
      "outputs": []
    },
    {
      "cell_type": "code",
      "metadata": {
        "id": "oMsxp_MWIgDl",
        "colab_type": "code",
        "colab": {
          "base_uri": "https://localhost:8080/",
          "height": 69
        },
        "outputId": "e5a29945-f897-4f8d-ef90-f690f081652c"
      },
      "source": [
        "print(X_axes)\n",
        "print(Y_axes)"
      ],
      "execution_count": 3,
      "outputs": [
        {
          "output_type": "stream",
          "text": [
            "[[ 1.62434536 -0.61175641 -0.52817175]\n",
            " [-1.07296862  0.86540763 -2.3015387 ]]\n",
            "[[ True False  True]]\n"
          ],
          "name": "stdout"
        }
      ]
    },
    {
      "cell_type": "code",
      "metadata": {
        "id": "Je12A4udIjLs",
        "colab_type": "code",
        "colab": {}
      },
      "source": [
        "def layer_sizes(X,Y):\n",
        "  n_x=X.shape[0]\n",
        "  n_h=4\n",
        "  n_y=Y.shape[0]\n",
        "  return n_x,n_h,n_y"
      ],
      "execution_count": 4,
      "outputs": []
    },
    {
      "cell_type": "code",
      "metadata": {
        "id": "TNaw7H96IlzA",
        "colab_type": "code",
        "colab": {}
      },
      "source": [
        "def initialize_parameters(n_x,n_h,n_y):\n",
        "  np.random.seed(2)\n",
        "  W1=np.random.randn(n_h,n_x)*0.01\n",
        "  b1=np.zeros(shape=(n_h,1))\n",
        "  W2=np.random.randn(n_y,n_h)*0.01\n",
        "  b2=np.zeros(shape=(n_y,1))\n",
        "  parameters={\"W1\":W1,\"b1\":b1,\"W2\":W2,\"b2\":b2}\n",
        "  return parameters\n"
      ],
      "execution_count": 5,
      "outputs": []
    },
    {
      "cell_type": "code",
      "metadata": {
        "id": "kSPETCCmIu7s",
        "colab_type": "code",
        "colab": {}
      },
      "source": [
        "n_x,n_h,n_y=2,4,1\n",
        "parameters=initialize_parameters(n_x,n_h,n_y)"
      ],
      "execution_count": 6,
      "outputs": []
    },
    {
      "cell_type": "code",
      "metadata": {
        "id": "Hv8I5J_mIzNO",
        "colab_type": "code",
        "colab": {}
      },
      "source": [
        "def sigmoid(z):\n",
        "  a=1/(1+np.exp(-z))\n",
        "  return a"
      ],
      "execution_count": 7,
      "outputs": []
    },
    {
      "cell_type": "code",
      "metadata": {
        "id": "_2lgqQz1I1v-",
        "colab_type": "code",
        "colab": {}
      },
      "source": [
        "def forward_propagation(X, parameters):\n",
        "    \n",
        "    W1 = parameters['W1']\n",
        "    b1 = parameters['b1']\n",
        "    W2 = parameters['W2']\n",
        "    b2 = parameters['b2']\n",
        "    \n",
        "    # Implement Forward Propagation to calculate A2 (probabilities)\n",
        "    \n",
        "    Z1 = np.dot(W1, X) + b1\n",
        "    A1 = np.tanh(Z1)\n",
        "    Z2 = np.dot(W2, A1) + b2\n",
        "    A2 = sigmoid(Z2)\n",
        "    \n",
        "    \n",
        "    \n",
        "    cache = {\"Z1\": Z1, \"A1\": A1, \"Z2\": Z2, \"A2\": A2}\n",
        "    \n",
        "    return A2, cache"
      ],
      "execution_count": 8,
      "outputs": []
    },
    {
      "cell_type": "code",
      "metadata": {
        "id": "peQdMsgtI4uD",
        "colab_type": "code",
        "colab": {}
      },
      "source": [
        "A2,parameter=forward_propagation(X_axes,parameters)"
      ],
      "execution_count": 9,
      "outputs": []
    },
    {
      "cell_type": "code",
      "metadata": {
        "id": "i0snujcUI8Vp",
        "colab_type": "code",
        "colab": {
          "base_uri": "https://localhost:8080/",
          "height": 208
        },
        "outputId": "0dc52fcb-a580-437d-ab79-0e6aff3168b1"
      },
      "source": [
        "print(\"A2: \"+str(A2))\n",
        "print(\"Z1: \" + str(parameter[\"Z1\"]))\n",
        "print(\"A1: \" + str(parameter[\"A1\"]))\n",
        "print(\"Z2: \" + str(parameter[\"Z2\"]))\n",
        "print(\"A2: \" + str(parameter[\"A2\"]))"
      ],
      "execution_count": 10,
      "outputs": [
        {
          "output_type": "stream",
          "text": [
            "A2: [[0.5002307  0.49985831 0.50023963]]\n",
            "Z1: [[-0.00616586  0.00206261  0.0034962 ]\n",
            " [-0.05229879  0.02726335 -0.02646868]\n",
            " [-0.0200999   0.00368691  0.02884556]\n",
            " [ 0.02153008 -0.01385323  0.02600471]]\n",
            "A1: [[-0.00616578  0.0020626   0.00349619]\n",
            " [-0.05225116  0.02725659 -0.0264625 ]\n",
            " [-0.0200972   0.00368689  0.02883756]\n",
            " [ 0.02152676 -0.01385234  0.02599885]]\n",
            "Z2: [[ 0.00092281 -0.00056678  0.00095853]]\n",
            "A2: [[0.5002307  0.49985831 0.50023963]]\n"
          ],
          "name": "stdout"
        }
      ]
    },
    {
      "cell_type": "code",
      "metadata": {
        "id": "g1tdcrdDI_EG",
        "colab_type": "code",
        "colab": {}
      },
      "source": [
        "def compute_cost(A2, Y, parameters):\n",
        "        \n",
        "    m = Y.shape[1] \n",
        "    \n",
        "    W1 = parameters[\"W1\"]\n",
        "    W2 = parameters[\"W2\"]\n",
        "    cost=-np.sum(Y*np.log(A2)+(1-Y)*np.log(1-A2))/m\n",
        "      \n",
        "    cost = np.squeeze(cost)     \n",
        "    assert(isinstance(cost, float))\n",
        "    \n",
        "    return cost"
      ],
      "execution_count": 11,
      "outputs": []
    },
    {
      "cell_type": "code",
      "metadata": {
        "id": "tY_GDYBOJCnj",
        "colab_type": "code",
        "colab": {
          "base_uri": "https://localhost:8080/",
          "height": 35
        },
        "outputId": "cfc25576-2494-4a8a-89a1-56b2a6b9220d"
      },
      "source": [
        "cost=compute_cost(A2,Y_axes,parameters)\n",
        "print(cost)"
      ],
      "execution_count": 12,
      "outputs": [
        {
          "output_type": "stream",
          "text": [
            "0.6927392477233995\n"
          ],
          "name": "stdout"
        }
      ]
    },
    {
      "cell_type": "code",
      "metadata": {
        "id": "kev_E5S_JFB0",
        "colab_type": "code",
        "colab": {}
      },
      "source": [
        "def backward_propagation(parameters,cache,X,Y):\n",
        "  m=X.shape[1]\n",
        "  W1=parameters[\"W1\"]\n",
        "  b1=parameters[\"b1\"]\n",
        "  W2=parameters[\"W2\"]\n",
        "  b2=parameters[\"b2\"]\n",
        "  A2=cache[\"A2\"]\n",
        "  A1=cache[\"A1\"]\n",
        "\n",
        "  dZ2=A2-Y\n",
        "  dW2=np.dot(dZ2,A1.T)/m\n",
        "  db2=np.sum(dZ2,axis=1,keepdims=True)/m\n",
        "  dZ1=np.dot(W2.T,dZ2)*(1-np.power(A1,2))\n",
        "  dW1=np.dot(dZ1,X.T)/m\n",
        "  db1=np.sum(dZ1,axis=1,keepdims=True)/m\n",
        "\n",
        "  grads={\"dW1\":dW1,\"db1\":db1,\"dW2\":dW2,\"db2\":db2}\n",
        "\n",
        "  return grads"
      ],
      "execution_count": 13,
      "outputs": []
    },
    {
      "cell_type": "code",
      "metadata": {
        "id": "UyhoNERtJIxz",
        "colab_type": "code",
        "colab": {}
      },
      "source": [
        "grads=backward_propagation(parameters,parameter,X_axes,Y_axes)"
      ],
      "execution_count": 14,
      "outputs": []
    },
    {
      "cell_type": "code",
      "metadata": {
        "id": "f4czOPngJMVQ",
        "colab_type": "code",
        "colab": {
          "base_uri": "https://localhost:8080/",
          "height": 191
        },
        "outputId": "d73b4f38-6680-4d41-cc0e-93bdcaca1bf2"
      },
      "source": [
        "grads"
      ],
      "execution_count": 15,
      "outputs": [
        {
          "output_type": "execute_result",
          "data": {
            "text/plain": [
              "{'dW1': array([[ 0.00301023, -0.00747267],\n",
              "        [ 0.00257968, -0.00641288],\n",
              "        [-0.00156892,  0.003893  ],\n",
              "        [-0.00652037,  0.01618243]]),\n",
              " 'dW2': array([[ 0.00078841,  0.01765429, -0.00084166, -0.01022527]]),\n",
              " 'db1': array([[ 0.00176201],\n",
              "        [ 0.00150995],\n",
              "        [-0.00091736],\n",
              "        [-0.00381422]]),\n",
              " 'db2': array([[-0.16655712]])}"
            ]
          },
          "metadata": {
            "tags": []
          },
          "execution_count": 15
        }
      ]
    },
    {
      "cell_type": "code",
      "metadata": {
        "id": "fG-4w_ObJOLp",
        "colab_type": "code",
        "colab": {}
      },
      "source": [
        "def update_parameters(parameters,grads,lr=1.2):\n",
        "  W1=parameters[\"W1\"]\n",
        "  b1=parameters[\"b1\"]\n",
        "  W2=parameters[\"W2\"]\n",
        "  b2=parameters[\"b2\"]\n",
        "\n",
        "  dW1=grads[\"dW1\"]\n",
        "  db1=grads[\"db1\"]\n",
        "  dW2=grads[\"dW2\"]\n",
        "  db2=grads[\"db2\"]\n",
        "\n",
        "  W1=W1-lr*dW1\n",
        "  W2=W2-lr*dW2\n",
        "  b1=b1-lr*db1\n",
        "  b2=b2-lr*db2\n",
        "\n",
        "  parameters={\"W1\":W1,\"b1\":b1,\"W2\":W2,\"b2\":b2}\n",
        "\n",
        "  return parameters\n",
        "\n"
      ],
      "execution_count": 16,
      "outputs": []
    },
    {
      "cell_type": "code",
      "metadata": {
        "id": "B3pIly9jJTSU",
        "colab_type": "code",
        "colab": {}
      },
      "source": [
        "parameters=update_parameters(parameters,grads,lr=1.2)"
      ],
      "execution_count": 17,
      "outputs": []
    },
    {
      "cell_type": "code",
      "metadata": {
        "id": "09KLFwjqJXtS",
        "colab_type": "code",
        "colab": {
          "base_uri": "https://localhost:8080/",
          "height": 191
        },
        "outputId": "a340d0fb-7242-40f9-d248-4901768d9f9e"
      },
      "source": [
        "parameters"
      ],
      "execution_count": 18,
      "outputs": [
        {
          "output_type": "execute_result",
          "data": {
            "text/plain": [
              "{'W1': array([[-0.00777986,  0.00840453],\n",
              "        [-0.02445757,  0.02409817],\n",
              "        [-0.01605165, -0.01308908],\n",
              "        [ 0.01285325, -0.0318718 ]]),\n",
              " 'W2': array([[-0.01152561, -0.03027522,  0.00652453,  0.03519241]]),\n",
              " 'b1': array([[-0.00211442],\n",
              "        [-0.00181194],\n",
              "        [ 0.00110084],\n",
              "        [ 0.00457706]]),\n",
              " 'b2': array([[0.19986854]])}"
            ]
          },
          "metadata": {
            "tags": []
          },
          "execution_count": 18
        }
      ]
    },
    {
      "cell_type": "code",
      "metadata": {
        "id": "ADjri_GjJbgy",
        "colab_type": "code",
        "colab": {}
      },
      "source": [
        "def nn_model(X,Y,n_h,num_itr=100000,print_cost=False):\n",
        " \n",
        "  np.random.seed(3)\n",
        "  n_x=layer_sizes(X,Y)[0]\n",
        "  n_y=layer_sizes(X,Y)[2]\n",
        " \n",
        "  parameters = initialize_parameters(n_x, n_h, n_y)\n",
        " \n",
        "  for i in range(0, num_itr):\n",
        "    A2,cache=forward_propagation(X,parameters)\n",
        " \n",
        "    cost=compute_cost(A2,Y,parameters)\n",
        " \n",
        "    grads=backward_propagation(parameters,cache,X,Y)\n",
        " \n",
        "    parameters=update_parameters(parameters,grads,lr=1.2)\n",
        " \n",
        "    if print_cost and i % 1000 == 0:\n",
        "            print (\"Cost after iteration %i: %f\" %(i, cost))\n",
        "\n",
        "\n",
        " \n",
        "  return parameters\n"
      ],
      "execution_count": 23,
      "outputs": []
    },
    {
      "cell_type": "code",
      "metadata": {
        "id": "PCA33sZ_Je4h",
        "colab_type": "code",
        "colab": {
          "base_uri": "https://localhost:8080/",
          "height": 1000
        },
        "outputId": "b1415b57-cfea-428f-b110-24398d43c68a"
      },
      "source": [
        "parameters=nn_model(X_axes,Y_axes,n_h=4,num_itr=100000,print_cost=True)\n",
        "parameters"
      ],
      "execution_count": 24,
      "outputs": [
        {
          "output_type": "stream",
          "text": [
            "Cost after iteration 0: 0.692739\n",
            "Cost after iteration 1000: 0.000218\n",
            "Cost after iteration 2000: 0.000107\n",
            "Cost after iteration 3000: 0.000071\n",
            "Cost after iteration 4000: 0.000053\n",
            "Cost after iteration 5000: 0.000042\n",
            "Cost after iteration 6000: 0.000035\n",
            "Cost after iteration 7000: 0.000030\n",
            "Cost after iteration 8000: 0.000026\n",
            "Cost after iteration 9000: 0.000023\n",
            "Cost after iteration 10000: 0.000021\n",
            "Cost after iteration 11000: 0.000019\n",
            "Cost after iteration 12000: 0.000018\n",
            "Cost after iteration 13000: 0.000016\n",
            "Cost after iteration 14000: 0.000015\n",
            "Cost after iteration 15000: 0.000014\n",
            "Cost after iteration 16000: 0.000013\n",
            "Cost after iteration 17000: 0.000012\n",
            "Cost after iteration 18000: 0.000012\n",
            "Cost after iteration 19000: 0.000011\n",
            "Cost after iteration 20000: 0.000011\n",
            "Cost after iteration 21000: 0.000010\n",
            "Cost after iteration 22000: 0.000010\n",
            "Cost after iteration 23000: 0.000009\n",
            "Cost after iteration 24000: 0.000009\n",
            "Cost after iteration 25000: 0.000008\n",
            "Cost after iteration 26000: 0.000008\n",
            "Cost after iteration 27000: 0.000008\n",
            "Cost after iteration 28000: 0.000008\n",
            "Cost after iteration 29000: 0.000007\n",
            "Cost after iteration 30000: 0.000007\n",
            "Cost after iteration 31000: 0.000007\n",
            "Cost after iteration 32000: 0.000007\n",
            "Cost after iteration 33000: 0.000006\n",
            "Cost after iteration 34000: 0.000006\n",
            "Cost after iteration 35000: 0.000006\n",
            "Cost after iteration 36000: 0.000006\n",
            "Cost after iteration 37000: 0.000006\n",
            "Cost after iteration 38000: 0.000006\n",
            "Cost after iteration 39000: 0.000005\n",
            "Cost after iteration 40000: 0.000005\n",
            "Cost after iteration 41000: 0.000005\n",
            "Cost after iteration 42000: 0.000005\n",
            "Cost after iteration 43000: 0.000005\n",
            "Cost after iteration 44000: 0.000005\n",
            "Cost after iteration 45000: 0.000005\n",
            "Cost after iteration 46000: 0.000005\n",
            "Cost after iteration 47000: 0.000004\n",
            "Cost after iteration 48000: 0.000004\n",
            "Cost after iteration 49000: 0.000004\n",
            "Cost after iteration 50000: 0.000004\n",
            "Cost after iteration 51000: 0.000004\n",
            "Cost after iteration 52000: 0.000004\n",
            "Cost after iteration 53000: 0.000004\n",
            "Cost after iteration 54000: 0.000004\n",
            "Cost after iteration 55000: 0.000004\n",
            "Cost after iteration 56000: 0.000004\n",
            "Cost after iteration 57000: 0.000004\n",
            "Cost after iteration 58000: 0.000004\n",
            "Cost after iteration 59000: 0.000004\n",
            "Cost after iteration 60000: 0.000003\n",
            "Cost after iteration 61000: 0.000003\n",
            "Cost after iteration 62000: 0.000003\n",
            "Cost after iteration 63000: 0.000003\n",
            "Cost after iteration 64000: 0.000003\n",
            "Cost after iteration 65000: 0.000003\n",
            "Cost after iteration 66000: 0.000003\n",
            "Cost after iteration 67000: 0.000003\n",
            "Cost after iteration 68000: 0.000003\n",
            "Cost after iteration 69000: 0.000003\n",
            "Cost after iteration 70000: 0.000003\n",
            "Cost after iteration 71000: 0.000003\n",
            "Cost after iteration 72000: 0.000003\n",
            "Cost after iteration 73000: 0.000003\n",
            "Cost after iteration 74000: 0.000003\n",
            "Cost after iteration 75000: 0.000003\n",
            "Cost after iteration 76000: 0.000003\n",
            "Cost after iteration 77000: 0.000003\n",
            "Cost after iteration 78000: 0.000003\n",
            "Cost after iteration 79000: 0.000003\n",
            "Cost after iteration 80000: 0.000003\n",
            "Cost after iteration 81000: 0.000003\n",
            "Cost after iteration 82000: 0.000003\n",
            "Cost after iteration 83000: 0.000003\n",
            "Cost after iteration 84000: 0.000002\n",
            "Cost after iteration 85000: 0.000002\n",
            "Cost after iteration 86000: 0.000002\n",
            "Cost after iteration 87000: 0.000002\n",
            "Cost after iteration 88000: 0.000002\n",
            "Cost after iteration 89000: 0.000002\n",
            "Cost after iteration 90000: 0.000002\n",
            "Cost after iteration 91000: 0.000002\n",
            "Cost after iteration 92000: 0.000002\n",
            "Cost after iteration 93000: 0.000002\n",
            "Cost after iteration 94000: 0.000002\n",
            "Cost after iteration 95000: 0.000002\n",
            "Cost after iteration 96000: 0.000002\n",
            "Cost after iteration 97000: 0.000002\n",
            "Cost after iteration 98000: 0.000002\n",
            "Cost after iteration 99000: 0.000002\n"
          ],
          "name": "stdout"
        },
        {
          "output_type": "execute_result",
          "data": {
            "text/plain": [
              "{'W1': array([[-0.72808556,  1.34225268],\n",
              "        [-0.81651504,  1.49065275],\n",
              "        [ 0.6615354 , -1.24757561],\n",
              "        [ 0.82117678, -1.50887831]]),\n",
              " 'W2': array([[-3.01587153, -3.83903168,  2.55943921,  3.93699737]]),\n",
              " 'b1': array([[ 0.32715657],\n",
              "        [ 0.38318796],\n",
              "        [-0.28863399],\n",
              "        [-0.38918499]]),\n",
              " 'b2': array([[0.20815629]])}"
            ]
          },
          "metadata": {
            "tags": []
          },
          "execution_count": 24
        }
      ]
    },
    {
      "cell_type": "code",
      "metadata": {
        "id": "rGywWldzJjRe",
        "colab_type": "code",
        "colab": {}
      },
      "source": [
        ""
      ],
      "execution_count": null,
      "outputs": []
    }
  ]
}