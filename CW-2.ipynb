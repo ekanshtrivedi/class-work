{
  "nbformat": 4,
  "nbformat_minor": 0,
  "metadata": {
    "colab": {
      "name": "Untitled1.ipynb",
      "provenance": [],
      "authorship_tag": "ABX9TyNXBNBq0a6fdDetW+so8Hej",
      "include_colab_link": true
    },
    "kernelspec": {
      "name": "python3",
      "display_name": "Python 3"
    }
  },
  "cells": [
    {
      "cell_type": "markdown",
      "metadata": {
        "id": "view-in-github",
        "colab_type": "text"
      },
      "source": [
        "<a href=\"https://colab.research.google.com/github/ekanshtrivedi/class-work/blob/master/CW-2.ipynb\" target=\"_parent\"><img src=\"https://colab.research.google.com/assets/colab-badge.svg\" alt=\"Open In Colab\"/></a>"
      ]
    },
    {
      "cell_type": "code",
      "metadata": {
        "id": "LCH-lLynbMks",
        "colab_type": "code",
        "colab": {}
      },
      "source": [
        "# list \n",
        "a = [1,2,3,4,5,\"human\"]\n",
        "b = [[1,2,3,4,5],[1,2,3,4,\"human\"],[4,5,\"human\",5,6]]\n",
        "\n",
        "# tuple\n",
        "d = (1,3,4,\"human\")\n",
        "\n",
        "# Set\n",
        "c = {1,2,3,4,5,1,2,3,4}"
      ],
      "execution_count": 1,
      "outputs": []
    },
    {
      "cell_type": "code",
      "metadata": {
        "id": "qyA4L23ObYYA",
        "colab_type": "code",
        "colab": {
          "base_uri": "https://localhost:8080/",
          "height": 87
        },
        "outputId": "6a2d01e0-a31b-4233-e3b4-c48dfdc8db19"
      },
      "source": [
        "print(a,type(a))\n",
        "print(b,type(b))\n",
        "print(c,type(c))\n",
        "print(d,type(d))"
      ],
      "execution_count": 2,
      "outputs": [
        {
          "output_type": "stream",
          "text": [
            "[1, 2, 3, 4, 5, 'human'] <class 'list'>\n",
            "[[1, 2, 3, 4, 5], [1, 2, 3, 4, 'human'], [4, 5, 'human', 5, 6]] <class 'list'>\n",
            "{1, 2, 3, 4, 5} <class 'set'>\n",
            "(1, 3, 4, 'human') <class 'tuple'>\n"
          ],
          "name": "stdout"
        }
      ]
    },
    {
      "cell_type": "code",
      "metadata": {
        "id": "CW8lOmkVbfSu",
        "colab_type": "code",
        "colab": {
          "base_uri": "https://localhost:8080/",
          "height": 35
        },
        "outputId": "6c9fb5fe-b207-47de-a00d-3685fe9d5325"
      },
      "source": [
        "aa = set(a) #converting list to set\n",
        "print(aa,type(aa))"
      ],
      "execution_count": 3,
      "outputs": [
        {
          "output_type": "stream",
          "text": [
            "{1, 2, 3, 4, 5, 'human'} <class 'set'>\n"
          ],
          "name": "stdout"
        }
      ]
    },
    {
      "cell_type": "code",
      "metadata": {
        "id": "0SR6i1xwbijg",
        "colab_type": "code",
        "colab": {
          "base_uri": "https://localhost:8080/",
          "height": 183
        },
        "outputId": "45e58d56-49fc-48a6-8a87-e04ba8fbda5a"
      },
      "source": [
        "bb = set(b) # converting list of list to set is not possible (will show error)\n",
        "print(bb,type(bb))"
      ],
      "execution_count": 6,
      "outputs": [
        {
          "output_type": "error",
          "ename": "TypeError",
          "evalue": "ignored",
          "traceback": [
            "\u001b[0;31m---------------------------------------------------------------------------\u001b[0m",
            "\u001b[0;31mTypeError\u001b[0m                                 Traceback (most recent call last)",
            "\u001b[0;32m<ipython-input-6-b7f3d1824bbc>\u001b[0m in \u001b[0;36m<module>\u001b[0;34m()\u001b[0m\n\u001b[0;32m----> 1\u001b[0;31m \u001b[0mbb\u001b[0m \u001b[0;34m=\u001b[0m \u001b[0mset\u001b[0m\u001b[0;34m(\u001b[0m\u001b[0mb\u001b[0m\u001b[0;34m)\u001b[0m\u001b[0;34m\u001b[0m\u001b[0;34m\u001b[0m\u001b[0m\n\u001b[0m\u001b[1;32m      2\u001b[0m \u001b[0mprint\u001b[0m\u001b[0;34m(\u001b[0m\u001b[0mbb\u001b[0m\u001b[0;34m,\u001b[0m\u001b[0mtype\u001b[0m\u001b[0;34m(\u001b[0m\u001b[0mbb\u001b[0m\u001b[0;34m)\u001b[0m\u001b[0;34m)\u001b[0m\u001b[0;34m\u001b[0m\u001b[0;34m\u001b[0m\u001b[0m\n",
            "\u001b[0;31mTypeError\u001b[0m: unhashable type: 'list'"
          ]
        }
      ]
    },
    {
      "cell_type": "code",
      "metadata": {
        "id": "lfn6y9SPbmx6",
        "colab_type": "code",
        "colab": {
          "base_uri": "https://localhost:8080/",
          "height": 35
        },
        "outputId": "bb984cf6-42e3-41a0-e832-4e0d0e6e91ab"
      },
      "source": [
        "#String to Set\n",
        "name = \"Ekansh Trivedi\"\n",
        "name = set(name)\n",
        "print(name, type(name))"
      ],
      "execution_count": 7,
      "outputs": [
        {
          "output_type": "stream",
          "text": [
            "{'s', 'e', 'i', 'r', 'k', ' ', 'v', 'E', 'a', 'd', 'n', 'T', 'h'} <class 'set'>\n"
          ],
          "name": "stdout"
        }
      ]
    },
    {
      "cell_type": "code",
      "metadata": {
        "id": "inDR8_W-cAoT",
        "colab_type": "code",
        "colab": {
          "base_uri": "https://localhost:8080/",
          "height": 35
        },
        "outputId": "28a86be8-911d-42e9-d04c-93ecb300b274"
      },
      "source": [
        "mix = {66, \"Ekansh\", 123.112, True, None}\n",
        "print(mix, type(mix))"
      ],
      "execution_count": 10,
      "outputs": [
        {
          "output_type": "stream",
          "text": [
            "{True, 66, 'Ekansh', None, 123.112} <class 'set'>\n"
          ],
          "name": "stdout"
        }
      ]
    },
    {
      "cell_type": "code",
      "metadata": {
        "id": "1hT7JcSDcIrn",
        "colab_type": "code",
        "colab": {
          "base_uri": "https://localhost:8080/",
          "height": 35
        },
        "outputId": "7118dc13-4085-432b-9c3e-f539d9c98053"
      },
      "source": [
        "len(mix)"
      ],
      "execution_count": 9,
      "outputs": [
        {
          "output_type": "execute_result",
          "data": {
            "text/plain": [
              "5"
            ]
          },
          "metadata": {
            "tags": []
          },
          "execution_count": 9
        }
      ]
    },
    {
      "cell_type": "code",
      "metadata": {
        "id": "yh8LiHIGcLCN",
        "colab_type": "code",
        "colab": {
          "base_uri": "https://localhost:8080/",
          "height": 35
        },
        "outputId": "24392864-7333-4fe7-e1b2-049fb9515fa4"
      },
      "source": [
        "int('1B1212',12)"
      ],
      "execution_count": 12,
      "outputs": [
        {
          "output_type": "execute_result",
          "data": {
            "text/plain": [
              "478958"
            ]
          },
          "metadata": {
            "tags": []
          },
          "execution_count": 12
        }
      ]
    },
    {
      "cell_type": "code",
      "metadata": {
        "id": "EBtSzMCMcXPs",
        "colab_type": "code",
        "colab": {}
      },
      "source": [
        "a_=7 # for using reserve keywords\n",
        "a=6\n",
        "_a=14 # variable is intended for making private variables"
      ],
      "execution_count": 13,
      "outputs": []
    },
    {
      "cell_type": "code",
      "metadata": {
        "id": "SQvolrV2c2DE",
        "colab_type": "code",
        "colab": {}
      },
      "source": [
        "class hello:\n",
        "    \"Members of a class\"\n",
        "    # attribute= variables(compulsory)\n",
        "    # method/behaviour= function (compulsory)"
      ],
      "execution_count": 14,
      "outputs": []
    },
    {
      "cell_type": "code",
      "metadata": {
        "id": "5Z1ALJmJc4cb",
        "colab_type": "code",
        "colab": {
          "base_uri": "https://localhost:8080/",
          "height": 218
        },
        "outputId": "2c92aa63-82f5-4748-bc66-8dbc5e66d143"
      },
      "source": [
        "class Student:\n",
        "    a =100\n",
        "    def __init__(self,name):\n",
        "        #Initiates the object of a class i.e.-constructor\n",
        "        self.__name = name \n",
        "          \n",
        "    def displayName(self): \n",
        "        print(self.__name)\n",
        "        \n",
        "  \n",
        "#Class and Object\n",
        "s1 = Student(\"Santhosh\") \n",
        "s1.displayName() \n",
        "  \n",
        "# Error \n",
        "print(s1.__name)"
      ],
      "execution_count": 15,
      "outputs": [
        {
          "output_type": "stream",
          "text": [
            "Santhosh\n"
          ],
          "name": "stdout"
        },
        {
          "output_type": "error",
          "ename": "AttributeError",
          "evalue": "ignored",
          "traceback": [
            "\u001b[0;31m---------------------------------------------------------------------------\u001b[0m",
            "\u001b[0;31mAttributeError\u001b[0m                            Traceback (most recent call last)",
            "\u001b[0;32m<ipython-input-15-c4b4f4c21f2e>\u001b[0m in \u001b[0;36m<module>\u001b[0;34m()\u001b[0m\n\u001b[1;32m     14\u001b[0m \u001b[0;34m\u001b[0m\u001b[0m\n\u001b[1;32m     15\u001b[0m \u001b[0;31m# Error\u001b[0m\u001b[0;34m\u001b[0m\u001b[0;34m\u001b[0m\u001b[0;34m\u001b[0m\u001b[0m\n\u001b[0;32m---> 16\u001b[0;31m \u001b[0mprint\u001b[0m\u001b[0;34m(\u001b[0m\u001b[0ms1\u001b[0m\u001b[0;34m.\u001b[0m\u001b[0m__name\u001b[0m\u001b[0;34m)\u001b[0m\u001b[0;34m\u001b[0m\u001b[0;34m\u001b[0m\u001b[0m\n\u001b[0m",
            "\u001b[0;31mAttributeError\u001b[0m: 'Student' object has no attribute '__name'"
          ]
        }
      ]
    },
    {
      "cell_type": "code",
      "metadata": {
        "id": "vcZUxv-odO7A",
        "colab_type": "code",
        "colab": {}
      },
      "source": [
        ""
      ],
      "execution_count": null,
      "outputs": []
    }
  ]
}